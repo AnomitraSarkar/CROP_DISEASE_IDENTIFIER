{
  "nbformat": 4,
  "nbformat_minor": 0,
  "metadata": {
    "colab": {
      "provenance": []
    },
    "kernelspec": {
      "name": "python3",
      "display_name": "Python 3"
    },
    "language_info": {
      "name": "python"
    }
  },
  "cells": [
    {
      "cell_type": "markdown",
      "source": [
        " Upload the \"potatoes.h5\" model and upload the image you want to test before begining"
      ],
      "metadata": {
        "id": "WD8P4a3Na-ai"
      }
    },
    {
      "cell_type": "markdown",
      "source": [
        "# INITIALIZATION"
      ],
      "metadata": {
        "id": "71CyItinciu8"
      }
    },
    {
      "cell_type": "markdown",
      "source": [
        "Imports and Dependencies"
      ],
      "metadata": {
        "id": "lJxYa_t2bNIV"
      }
    },
    {
      "cell_type": "code",
      "source": [
        "import tensorflow as tf\n",
        "import os\n",
        "from PIL import Image\n",
        "import numpy as np\n",
        "from datetime import date"
      ],
      "metadata": {
        "id": "wyfPe0OrbQuq"
      },
      "execution_count": 1,
      "outputs": []
    },
    {
      "cell_type": "markdown",
      "source": [
        "Checking the presence and Loading the model"
      ],
      "metadata": {
        "id": "oXdxg4aTbspQ"
      }
    },
    {
      "cell_type": "code",
      "source": [
        "if \"potatoes.h5\" not in os.listdir():\n",
        "  print(\"Model not present...\")\n",
        "else:\n",
        "  print(\"Found Model...\")\n",
        "  model = tf.keras.models.load_model('potatoes.h5')"
      ],
      "metadata": {
        "colab": {
          "base_uri": "https://localhost:8080/"
        },
        "id": "iGtHIHoNbcgZ",
        "outputId": "25954026-126e-491d-8b21-4559c1270ce3"
      },
      "execution_count": 3,
      "outputs": [
        {
          "output_type": "stream",
          "name": "stdout",
          "text": [
            "Found Model...\n"
          ]
        }
      ]
    },
    {
      "cell_type": "markdown",
      "source": [
        "Creating the model summary files and printing the summary of the model layers"
      ],
      "metadata": {
        "id": "hLtj6BRZcPxk"
      }
    },
    {
      "cell_type": "code",
      "source": [
        "json_data = model.to_json()\n",
        "f = open(\"model_summary.json\", \"w\")\n",
        "f.write(json_data)\n",
        "f.close()\n",
        "model.summary()"
      ],
      "metadata": {
        "id": "Dwiqo8fFbpSH"
      },
      "execution_count": null,
      "outputs": []
    },
    {
      "cell_type": "code",
      "source": [
        "# REFERENCE CLASS NAMES FOR PROBABILTY REFERENCE\n",
        "classnames = ['early blight', 'late blight', 'healthy']"
      ],
      "metadata": {
        "id": "wIW2P8xMczY_"
      },
      "execution_count": 4,
      "outputs": []
    },
    {
      "cell_type": "markdown",
      "source": [
        "# FUNCTIONALITIES"
      ],
      "metadata": {
        "id": "vT_i2G6acbmp"
      }
    },
    {
      "cell_type": "code",
      "source": [
        "def imagetonp(path):\n",
        "  image = np.array(Image.open(path))\n",
        "  return image\n",
        "\n",
        "def prediction_model(path):\n",
        "  image1 = imagetonp(path)\n",
        "  img =np.expand_dims(image1,0)\n",
        "  predictions = model.predict(img)\n",
        "  return classnames[np.argmax(predictions[0])]\n",
        "\n",
        "def createReport(stat):\n",
        "    if stat == \"healthy\":\n",
        "        report(stat,stat)\n",
        "    elif stat == \"early blight\":\n",
        "        report(\"disease\",stat)\n",
        "    elif stat == \"late blight\":\n",
        "        report(\"disease\",stat)\n",
        "    else:\n",
        "        print(\"MODEL FAILURE\")\n",
        "def report(stat,disease):\n",
        "    f = open(\"report.txt\",\"w\")\n",
        "    msg = f\"Date:\\t\\t{str(date.today())}\\nStatus:\\t\\t{stat.upper()}\\nDisease-Name:\\t{disease.upper()}\\n\\nDr.Ram Krishna:\\t9782xxxx01\"\n",
        "    msg = \"------REPORT------\\n\"+msg+\"\\n------------------\"\n",
        "    f.write(msg)\n",
        "    f.close()"
      ],
      "metadata": {
        "id": "hj6n-7SbchDo"
      },
      "execution_count": 5,
      "outputs": []
    },
    {
      "cell_type": "markdown",
      "source": [
        "# RUNNABLE INTERFACE TO GENERATE REPORT"
      ],
      "metadata": {
        "id": "ZMPrvOPwdDM7"
      }
    },
    {
      "cell_type": "code",
      "source": [
        "path = input(\"Enter the path of the image in 256x256 format: \")\n",
        "createReport(prediction_model(path))"
      ],
      "metadata": {
        "colab": {
          "base_uri": "https://localhost:8080/"
        },
        "id": "UlPiO35TdCH7",
        "outputId": "f1d2908d-a565-4d35-8683-7d997c1eff0d"
      },
      "execution_count": 6,
      "outputs": [
        {
          "output_type": "stream",
          "name": "stdout",
          "text": [
            "Enter the path of the image in 256x256 format: plb.JPG\n",
            "1/1 [==============================] - 0s 273ms/step\n"
          ]
        }
      ]
    }
  ]
}